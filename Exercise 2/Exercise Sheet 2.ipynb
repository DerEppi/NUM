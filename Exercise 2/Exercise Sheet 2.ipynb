{
 "cells": [
  {
   "cell_type": "markdown",
   "metadata": {},
   "source": [
    "# Visualization Exercise Sheet\n",
    "\n",
    "----------------------------------------------------------"
   ]
  },
  {
   "cell_type": "markdown",
   "metadata": {},
   "source": [
    "In these short questions we will have you work with data from the GALAH spectroscopic survey (https://www.galah-survey.org) of stars in the Milky Way disk, and practice some visualization techniques to help analyze trends in the data.\n",
    "\n",
    "You will find helpful documentation and examples to help you make the plots at the following graph galleries.\n",
    "https://python-graph-gallery.com\n",
    "\n",
    "https://matplotlib.org/stable/plot_types/index.html"
   ]
  },
  {
   "cell_type": "markdown",
   "metadata": {},
   "source": [
    "**Download the data file 'galahamr.sav' located in the Moodle exercises page, which contains measurements of physical properties of ~7000 nearby stars.**"
   ]
  },
  {
   "cell_type": "code",
   "execution_count": 389,
   "metadata": {},
   "outputs": [],
   "source": [
    "import numpy as np\n",
    "from matplotlib import pyplot as plt"
   ]
  },
  {
   "cell_type": "code",
   "execution_count": 390,
   "metadata": {},
   "outputs": [],
   "source": [
    "#Read in data set\n",
    "from scipy.io import readsav\n",
    "filepath = 'galahamr.sav'  #change this to the path on your computer where the file is stored\n",
    "stars = readsav(filepath)  "
   ]
  },
  {
   "cell_type": "code",
   "execution_count": 391,
   "metadata": {},
   "outputs": [],
   "source": [
    "#Pull out some attributes of the stars we want to look at and store them in arrays\n",
    "logg = stars['f']['logg']  #surface gravity   \n",
    "teff = stars['f']['teff']  #effective temperature\n",
    "mass = stars['f']['massmean']  #mass\n",
    "lum = mass**4.  #luminosity for stars 0.43 < Msun < 2\n",
    "age = stars['f']['agemean'] #age\n",
    "feh = stars['f']['__fe_h_'] #[Fe/H], a logarithmic Iron abundance\n",
    "afe = stars['f']['__alpha_fe_']  #[Alpha/Fe], logarithmic relative abundance of alpha elements(O, Si, etc.) relative to Iron"
   ]
  },
  {
   "cell_type": "markdown",
   "metadata": {},
   "source": [
    "### 1) Consider one version of the Hertzsprung-Russell diagram using effective temperature and surface gravity of the stars ( $T_{eff}$, log(g) ).  Make two types of plots of the stars, with clearly labeled axes and colorbars where suitable: \n",
    "* a) a scatter plot with the points colored by age \n",
    "* b) a 2D density plot using, e.g. the **kde** package along with the **pcolormesh** routine in matplotlib; or hist2d within matplotlib"
   ]
  },
  {
   "cell_type": "markdown",
   "metadata": {},
   "source": [
    "### 2) Use a built-in, or hand-written routine to compute the running average of $T_{eff}$ as a function of $log(g)$.  Overplot this average approximation to the distribution of stars.  It should roughly subdivide the sample into cooler and hotter stars at a given value of $log(g)$."
   ]
  },
  {
   "cell_type": "markdown",
   "metadata": {},
   "source": [
    "### 3) [OPTIONAL]  Compute the mean and standard deviation ($\\sigma$) of the ages of the cool and hot star sub-samples\n",
    "\n",
    "* What percent of stars have an age that is within $1-\\sigma$ of the mean ages of *both* the cool and hot star sub-samples?  e.g., the fraction of stars that have ages within\n",
    " \n",
    "$(mean(age_{hot}) +\\sigma(age_{hot}))$ $\\leq age \\leq$ $(mean(age_{cool}) -\\sigma(age_{cool}))$"
   ]
  },
  {
   "cell_type": "markdown",
   "metadata": {},
   "source": [
    "### 4) Create two versions of a *weighted* 2D density distribution of the sample of stars in the plane of **[Fe/H]** as a function of **age**:\n",
    "* a) One where the density distribution is weighted by the mass of the stars\n",
    "* b) One where the density distribution is weighted by the luminosity of the stars\n",
    "\n",
    "Compute the weighted average metallicity and age for both cases and indicate them on the density distributions."
   ]
  },
  {
   "cell_type": "code",
   "execution_count": null,
   "metadata": {},
   "outputs": [],
   "source": []
  }
 ],
 "metadata": {
  "kernelspec": {
   "display_name": "Python 3 (ipykernel)",
   "language": "python",
   "name": "python3"
  },
  "language_info": {
   "codemirror_mode": {
    "name": "ipython",
    "version": 3
   },
   "file_extension": ".py",
   "mimetype": "text/x-python",
   "name": "python",
   "nbconvert_exporter": "python",
   "pygments_lexer": "ipython3",
   "version": "3.8.10"
  }
 },
 "nbformat": 4,
 "nbformat_minor": 4
}
