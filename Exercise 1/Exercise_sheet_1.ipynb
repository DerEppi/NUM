{
 "cells": [
  {
   "cell_type": "markdown",
   "metadata": {},
   "source": [
    "---\n",
    "---\n",
    "\n",
    "<h1><center><ins>Exercise Sheet 1</ins></center></h1>\n",
    "<h2><center>Numerical Methods <br><br> Deadline: 17 October 2024</center></h2>\n",
    "\n",
    "---\n",
    "---"
   ]
  },
  {
   "cell_type": "markdown",
   "metadata": {},
   "source": [
    "## Exercise 1 - FizzBuzz\n",
    "\n",
    "Write a program that prints integer numbers from 1 to 25. For multiples of 3 print `\"Fizz\"` instead of the number, and for multiples of 5 print `\"Buzz\"`.\n",
    "\n",
    "**Careful:** for multiples of 3 and 5, you should print `\"FizzBuzz\"`!"
   ]
  },
  {
   "cell_type": "code",
   "execution_count": 2,
   "metadata": {},
   "outputs": [
    {
     "name": "stdout",
     "output_type": "stream",
     "text": [
      "Buzz\n"
     ]
    }
   ],
   "source": [
    "import random\n",
    "\n",
    "\n",
    "number = random.randint(1, 25)\n",
    "#print(number)\n",
    "\n",
    "if number % 3 == 0 and number % 5 == 0:\n",
    "    print(\"FizzBuzz\")\n",
    "elif number % 3 == 0:\n",
    "    print(\"Fizz\")\n",
    "elif number % 5 == 0:\n",
    "    print(\"Buzz\")\n",
    "else:\n",
    "    print(number)"
   ]
  },
  {
   "cell_type": "markdown",
   "metadata": {},
   "source": [
    "## Exercise 2 - Leap years\n",
    "\n",
    "**(a)** Write a function that, given a year, reports if it is a [leap year](https://en.wikipedia.org/wiki/Leap_year). The tricky thing is that a leap year in the Gregorian calendar occurs:\n",
    " * on every year that is evenly divisible by 4\n",
    " * except every year that is evenly divisible by 100\n",
    " * unless the year is also evenly divisible by 400\n",
    " \n",
    "For example, 1995 is not a leap year, but 1996 is. 1900 is not a leap year, but 2000 is.\n",
    "\n",
    "**(b)** Test your function on some selected years that allow you to check if it provides the correct solution."
   ]
  },
  {
   "cell_type": "code",
   "execution_count": 17,
   "metadata": {},
   "outputs": [
    {
     "name": "stdout",
     "output_type": "stream",
     "text": [
      "132 is a leap year\n",
      "1740 is a leap year\n",
      "403 is not a leap year\n",
      "716 is a leap year\n",
      "1007 is not a leap year\n",
      "1260 is a leap year\n",
      "89 is not a leap year\n",
      "1386 is not a leap year\n",
      "464 is a leap year\n",
      "1559 is not a leap year\n",
      "1900 is not a leap year\n",
      "2000 is a leap year\n"
     ]
    }
   ],
   "source": [
    "def is_leap_year(year):\n",
    "\n",
    "    try:\n",
    "        year = int(year)\n",
    "        if (year % 4 == 0 and year % 100 != 0) or (year % 400 == 0):\n",
    "            print(f\"{year} is a leap year\")\n",
    "        else:\n",
    "            print(f\"{year} is not a leap year\")\n",
    "    except ValueError:\n",
    "        print(\"Invalid input. Please enter a valid year.\")\n",
    "\n",
    "\n",
    "#y = input(\"enter a year:\")\n",
    "#is_leap_year(year)\n",
    "\n",
    "for i in range(10):\n",
    "    year = random.randint(1, 2024)\n",
    "    is_leap_year(year)\n",
    "\n",
    "is_leap_year(1900)\n",
    "is_leap_year(2000)\n"
   ]
  },
  {
   "cell_type": "markdown",
   "metadata": {},
   "source": [
    "## Exercise 3 - Rigged dice\n",
    "\n",
    "**(a)** Create a rigged dice function that 25% of the time returns the number 6. The rest of the time it returns the integers 1,2,3,4,5 uniformly.\n",
    "\n",
    "**(b)** Test your function, by calling it 100k times and checking that 6 is returned in the range of 24700-25300 (inclusive) times. You do not need to check that numbers 1 to 5 are returned uniformly or randomly, but you need to check that your function returns integers in the range 1-6 (inclusive). Such a test works roughly 98% of the time, so you might want to run it twice if you are confident your solution is correct."
   ]
  },
  {
   "cell_type": "code",
   "execution_count": 276,
   "metadata": {},
   "outputs": [
    {
     "name": "stdout",
     "output_type": "stream",
     "text": [
      "[14868, 14909, 15126, 15227, 15162, 24708]\n",
      "test passed\n"
     ]
    }
   ],
   "source": [
    "def rigged_dice():\n",
    "    x = random.randint(1, 4)\n",
    "    if x == 4:\n",
    "        return 6\n",
    "    else:\n",
    "        return random. randint(1, 5)\n",
    "    \n",
    "\n",
    "stats = [0, 0, 0, 0, 0, 0]\n",
    "\n",
    "for i in range(10**5):\n",
    "    y = rigged_dice()\n",
    "    stats[y-1] += 1\n",
    "\n",
    "print(stats)\n",
    "\n",
    "if 24700 < stats[5] < 25300:\n",
    "    print(\"test passed\")\n",
    "else:\n",
    "    print(\"try again\")\n",
    "    "
   ]
  },
  {
   "cell_type": "code",
   "execution_count": null,
   "metadata": {},
   "outputs": [],
   "source": []
  },
  {
   "cell_type": "markdown",
   "metadata": {},
   "source": [
    "## Exercise 4 - Find the fake coin\n",
    "\n",
    "Consider this famous puzzle: _\"You have 8 coins: all the coins have equal weight, except one. The odd one weighs less than the others, not being of pure gold. In the worst case, how many iterations do you need to find the odd one out on a two plates scale?\"_\n",
    "\n",
    "Write a function that returns the minimum amount of weighing it will take to measure `N` coins in every possible occurrence (including worst case scenario, i.e.: without relying on luck at all!). The number `N` is guaranteed to be a positive integer.\n",
    "\n",
    "**Tip:** being able to think recursively might help here!\n",
    "\n",
    "**Note:** this is clearly a logical problem, because a good coder is a master of pattern recognition and subsequent optimization! ;)"
   ]
  },
  {
   "cell_type": "code",
   "execution_count": null,
   "metadata": {},
   "outputs": [
    {
     "name": "stdout",
     "output_type": "stream",
     "text": [
      "[0, 1, 2, 3, 4, 5, 6, 7]\n",
      "[2, 2, 2, 1, 2, 2, 2, 2, 2]\n",
      "The odd coin is at index: 4\n",
      "It took 3 weighings to find the odd coin.\n"
     ]
    }
   ],
   "source": [
    "# firts try\n",
    "N = 9\n",
    "coins = [2] * N\n",
    "index = list(range(1,N+1))\n",
    "print(odd_one)\n",
    "\n",
    "coins[random.randint(0,N-1)] -= 1\n",
    "\n",
    "print(coins)\n",
    "\n",
    "def weigh(list, index):\n",
    "    iterations = 0\n",
    "    # problem with odd number of coins\n",
    "    while len(list) > 1:\n",
    "        left = list[:len(list)//2]\n",
    "        right = list[len(list)//2:]\n",
    "        left_sum = sum(left)\n",
    "        right_sum = sum(right)\n",
    "        if left < right:\n",
    "            index = index[:len(list)//2]\n",
    "            list = left\n",
    "        else:\n",
    "            index = index[len(list)//2:]\n",
    "            list = right\n",
    "        iterations += 1\n",
    "\n",
    "    print(\"The odd coin is at index:\", index[0])\n",
    "    print(\"It took\", iterations, \"weighings to find the odd coin.\")\n",
    "        \n",
    "weigh(coins, index)\n",
    "\n",
    "\n"
   ]
  },
  {
   "cell_type": "markdown",
   "metadata": {},
   "source": [
    "## [Optional Exercise] - Syntax debug and a challenge\n",
    "\n",
    "While programming a video game, your friend Elliot decided to create a function to check if the user is still alive, called `check_alive`. Unfortunately, Elliot made some errors while creating the function. The function `check_alive` should return a _boolean_, which has true value if the player's health is greater than 0 and false value if it is 0 or below. The function receives one parameter, `health`, which will always be a whole number between `-10` and `10`.\n",
    "\n",
    "**(a)** Fix the function by correcting Elliot's mistakes.\n",
    "\n",
    "**(b)** Write a test to make sure that after your changes the function indeed does what it should. \n",
    "\n",
    "_CAREFUL: you cannot use the same condition in the function and in the test! You need to define another condition to check whether your function works as it should!_\n",
    "\n",
    "**(c)** When you are satisfied with your solution, take another look at your function: can you simplify it further by making it shorter?"
   ]
  },
  {
   "cell_type": "code",
   "execution_count": null,
   "metadata": {},
   "outputs": [],
   "source": [
    "# Elliot's implementation\n",
    "\n",
    "def check_alive(health):\n",
    "    if():\n",
    "        health < 0\n",
    "        return false\n",
    "    else\n",
    "        return true"
   ]
  },
  {
   "cell_type": "code",
   "execution_count": null,
   "metadata": {},
   "outputs": [],
   "source": []
  }
 ],
 "metadata": {
  "kernelspec": {
   "display_name": "Python 3",
   "language": "python",
   "name": "python3"
  },
  "language_info": {
   "codemirror_mode": {
    "name": "ipython",
    "version": 3
   },
   "file_extension": ".py",
   "mimetype": "text/x-python",
   "name": "python",
   "nbconvert_exporter": "python",
   "pygments_lexer": "ipython3",
   "version": "3.12.10"
  }
 },
 "nbformat": 4,
 "nbformat_minor": 4
}
